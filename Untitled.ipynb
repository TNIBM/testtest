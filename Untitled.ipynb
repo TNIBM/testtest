{
 "cells": [
  {
   "cell_type": "markdown",
   "id": "8c6b5fb8-3063-4ec7-bb78-a7754a61055d",
   "metadata": {},
   "source": [
    "## ttttt"
   ]
  },
  {
   "cell_type": "code",
   "execution_count": null,
   "id": "ce9ffde5-d6da-4474-9e6c-2dfe357f9f3b",
   "metadata": {},
   "outputs": [],
   "source": []
  }
 ],
 "metadata": {
  "kernelspec": {
   "display_name": "Python [conda env:base] *",
   "language": "python",
   "name": "conda-base-py"
  },
  "language_info": {
   "codemirror_mode": {
    "name": "ipython",
    "version": 3
   },
   "file_extension": ".py",
   "mimetype": "text/x-python",
   "name": "python",
   "nbconvert_exporter": "python",
   "pygments_lexer": "ipython3",
   "version": "3.12.3"
  }
 },
 "nbformat": 4,
 "nbformat_minor": 5
}
